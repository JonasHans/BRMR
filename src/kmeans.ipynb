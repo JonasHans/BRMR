{
 "cells": [
  {
   "cell_type": "code",
   "execution_count": null,
   "metadata": {},
   "outputs": [],
   "source": [
    "import numpy as np\n",
    "from sklearn.cluster import KMeans\n",
    "\n",
    "def kmeans(path_and_name):\n",
    "    original = np.genfromtxt(path_and_name, delimiter=',')\n",
    "    headless = original[1:]\n",
    "\n",
    "    DBZ_weight = 100\n",
    "    clusters = 3\n",
    "    dataDBZ = headless[:, 0]*DBZ_weight\n",
    "    dataZ = headless[:, 5]\n",
    "\n",
    "    #data = np.matrix(zip(dataDBZ, dataZ))\n",
    "\n",
    "\n",
    "    # Output csv in form: DBZH, VRAD, X, Y, Z, Label\n",
    "    data = np.append(np.reshape(headless[:,0], (-1,1)), np.reshape(headless[:,2], (-1,1)), axis=1)\n",
    "\n",
    "    ks = KMeans(n_clusters=clusters).fit(data)\n",
    "    labels = ks.labels_\n",
    "\n",
    "    data = np.append(data, np.reshape(headless[:,3], (-1,1)), axis=1)\n",
    "    data = np.append(data, np.reshape(headless[:,4], (-1,1)), axis=1)\n",
    "    data = np.append(data, np.reshape(headless[:,5], (-1,1)), axis=1)\n",
    "\n",
    "    labeleddata = np.append(data, np.reshape(labels,(-1,1)), axis=1)\n",
    "\n",
    "    #filename = \"DBZ=\"+str(DBZ_weight)+\" and clusters=\"+str(clusters)\n",
    "    #np.savetxt(\"output/\"+filename+\".csv\", newdata, delimiter=',')\n",
    "    np.savetxt(\"testdata/new.csv\", labeleddata, delimiter=',')\n",
    "    #print \"Created csv file: \"+filename\n",
    "\n",
    "kmeans(\"testdata/complete.csv\")\n"
   ]
  }
 ],
 "metadata": {
  "kernelspec": {
   "display_name": "Python 2",
   "language": "python",
   "name": "python2"
  },
  "language_info": {
   "codemirror_mode": {
    "name": "ipython",
    "version": 2
   },
   "file_extension": ".py",
   "mimetype": "text/x-python",
   "name": "python",
   "nbconvert_exporter": "python",
   "pygments_lexer": "ipython2",
   "version": "2.7.14"
  }
 },
 "nbformat": 4,
 "nbformat_minor": 2
}
