{
 "cells": [
  {
   "cell_type": "code",
   "execution_count": 4,
   "metadata": {},
   "outputs": [],
   "source": [
    "import numpy as np\n",
    "from sklearn.cluster import KMeans\n",
    "\n",
    "def kmeans(path_and_name, clusters):\n",
    "    original = np.genfromtxt(path_and_name, delimiter=',')\n",
    "    headless = original[1:]\n",
    "\n",
    "    # Output csv in form: DBZH, VRAD, X, Y, Z, Label\n",
    "    data = headless[:,(0,2)]\n",
    "\n",
    "    # Apply KMeans and get labels\n",
    "    ks = KMeans(n_clusters=clusters).fit(data)\n",
    "    labels = ks.labels_\n",
    "\n",
    "    # Add labels to data\n",
    "    data = np.append(data, headless[:,(3,4,5)], axis=1)\n",
    "    labeleddata = np.append(data, np.reshape(labels,(-1,1)), axis=1)\n",
    "\n",
    "    # Write to CSV\n",
    "    name = path_and_name.split(\"/\")\n",
    "    name = name[len(name)-1]\n",
    "    name = \"KMeans_\" + name\n",
    "    np.savetxt(\"output/\" + name, labeleddata, delimiter=',')\n",
    "\n",
    "kmeans(\"csvdata/161007/161007-20-30.csv\", 3)"
   ]
  },
  {
   "cell_type": "code",
   "execution_count": null,
   "metadata": {
    "collapsed": true
   },
   "outputs": [],
   "source": []
  }
 ],
 "metadata": {
  "kernelspec": {
   "display_name": "Python 2",
   "language": "python",
   "name": "python2"
  },
  "language_info": {
   "codemirror_mode": {
    "name": "ipython",
    "version": 2
   },
   "file_extension": ".py",
   "mimetype": "text/x-python",
   "name": "python",
   "nbconvert_exporter": "python",
   "pygments_lexer": "ipython2",
   "version": "2.7.14"
  }
 },
 "nbformat": 4,
 "nbformat_minor": 2
}
