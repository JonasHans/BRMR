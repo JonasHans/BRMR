{
 "cells": [
  {
   "cell_type": "markdown",
   "metadata": {},
   "source": [
    "### DBSCAN\n",
    "\n",
    "DBSCAN is een clustering algoritme dat probeert clusters te vinden met een hoge dichtheid. Niet alle punten hoeven bij een cluster te horen. Dit zou in theorie dus de wolken kunnen vinden als dichte clusters, en de vogels overhouden als ongeclusterd. \n",
    "Resultaten:\n",
    "\n",
    "- DBHSCAN heeft een niet intuitieve parameter eps, voor elke scan anders is. Met sommige waarden is er totaal geen resultaat, voor sommigen iets beter.\n",
    "- Voor de data van 01 10 2016 om 5:00 worden met eps=3000 de wolken aardig weggefilterd. Er blijft wat ruis over en wat vogels worden tot een wolk gerekend, maar het lijkt alsof je nog iets kan zien waar een wolk heeft gezeten.\n"
   ]
  },
  {
   "cell_type": "code",
   "execution_count": 3,
   "metadata": {
    "collapsed": true
   },
   "outputs": [],
   "source": [
    "import numpy as np\n",
    "import sklearn.cluster as cluster\n",
    "\n",
    "def DBSCAN(filename):\n",
    "    original = np.genfromtxt(filename, delimiter=',')\n",
    "    headless = original[1:]\n",
    "    \n",
    "    DB = cluster.DBSCAN(eps = 500000).fit(headless)\n",
    "    print (len(set(DB.labels_)))\n",
    "    print (percentage_empty(DB.labels_))\n",
    "    \n",
    "    width = len(headless[0])\n",
    "    length = len(headless)\n",
    "    \n",
    "    b = np.zeros((length,width+1))\n",
    "    b[:,:-1] = headless\n",
    "    b[:, width] = np.array(DB.labels_)\n",
    "    \n",
    "    name = path_and_name.split(\"/\")\n",
    "    name = name[len(name)-1]\n",
    "    name = \"DBS_\" + name\n",
    "    np.savetxt(\"output/\"+name, b, delimiter=',')\n",
    "    print (\"done\")"
   ]
  },
  {
   "cell_type": "code",
   "execution_count": null,
   "metadata": {
    "collapsed": true
   },
   "outputs": [],
   "source": []
  }
 ],
 "metadata": {
  "kernelspec": {
   "display_name": "Python 2",
   "language": "python",
   "name": "python2"
  },
  "language_info": {
   "codemirror_mode": {
    "name": "ipython",
    "version": 2
   },
   "file_extension": ".py",
   "mimetype": "text/x-python",
   "name": "python",
   "nbconvert_exporter": "python",
   "pygments_lexer": "ipython2",
   "version": "2.7.14"
  }
 },
 "nbformat": 4,
 "nbformat_minor": 2
}
