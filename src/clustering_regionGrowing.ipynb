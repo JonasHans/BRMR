{
 "cells": [
  {
   "cell_type": "markdown",
   "metadata": {},
   "source": [
    "# Clustering\n",
    "\n",
    "In dit notebook staan verschillende cluster algoritmes die zijn geimplementeerd. \n",
    "\n",
    "---\n",
    "\n",
    "De geimplementeerde algoritmes zijn: \n",
    "\n",
    "1. Region growing clustering\n",
    "    - Random walker clustering \n",
    "    - Watershed clustering\n",
    "    \n",
    "2. Pointcloud segmentation\n",
    "    - Standard plane segmentation\n",
    "    - Cylinder model segmentation\n",
    "    \n",
    "3. ...\n",
    "\n",
    "---\n",
    "\n",
    "Hieronder volgt code en toelichting voor elk algoritme.\n"
   ]
  },
  {
   "cell_type": "markdown",
   "metadata": {},
   "source": [
    "### Utils\n",
    "Ondestaande code bevat functionaliteit die nodig is om de algoritmes te compilen."
   ]
  },
  {
   "cell_type": "code",
   "execution_count": null,
   "metadata": {},
   "outputs": [],
   "source": [
    "import numpy as np\n",
    "INPUT_FILENAME = \"csvData/160930/160930-20-00.csv\"\n",
    "DATA = \"\"\n",
    "\n",
    "def importDataFromCSV(fileName):\n",
    "    original = np.genfromtxt(fileName, delimiter=',')\n",
    "    data = original[1:]\n",
    "    return data\n",
    "\n",
    "# Import data from input file\n",
    "DATA = importDataFromCSV(INPUT_FILENAME)\n",
    "\n",
    "print \"Imported data from file: \"+INPUT_FILENAME "
   ]
  },
  {
   "cell_type": "markdown",
   "metadata": {},
   "source": [
    "## Region growing clustering\n",
    "\n",
    "De werking van region growing is beschreven in ons eindverslag. Er zijn twee soorten region growing algoritmes uitgeprobeerd, random walker en watershed. \n",
    "\n",
    "---\n",
    "\n",
    "### Random walker algoritme\n",
    "Het random walker algoritme is hieronder geimplementeerd. Hiervoor moet de scikit package *skimage.segmentation* geinstalleerd worden."
   ]
  },
  {
   "cell_type": "code",
   "execution_count": null,
   "metadata": {},
   "outputs": [],
   "source": [
    "from skimage.segmentation import random_walker\n",
    "\n",
    "# Random walker segmentation\n",
    "def createRWSegmentation(data):\n",
    "    # Format data for input as [X,Y,Z,DBZ]\n",
    "    inputData = data[:,[3,4,5,0]]\n",
    "\n",
    "    # Creating markers for dbz below 0 and higher then 7\n",
    "    markers = np.zeros(inputData.shape, dtype=np.uint)\n",
    "    markers[data[:,0] < 0] = 1\n",
    "    markers[data[:,0] > 7] = 2\n",
    "\n",
    "    # Generating cluster-labels with random walker segmentation\n",
    "    labels = np.array(random_walker(inputData, markers, beta=10, mode='bf'))\n",
    "\n",
    "    # Appending labels to the input data resulting in [X,Y,Z,DBZ,Labels]\n",
    "    result = np.append(inputData, np.reshape(labels[:,0],(-1,1)),axis = 1)\n",
    "    \n",
    "    # Export results to output file\n",
    "    np.savetxt(\"output/randomWalkerSegmentation.csv\",result, delimiter=',')\n",
    "    \n",
    "    print \"Exporting results to: output/randomWalkerSegmentation.csv\"\n",
    "\n",
    "    \n",
    "print \"****************Running random walker segmentation*****************\"\n",
    "createRWSegmentation(DATA)\n",
    "print \"****************Ending random walker segmentation*****************\""
   ]
  },
  {
   "cell_type": "markdown",
   "metadata": {},
   "source": [
    "## Watershed algoritme\n",
    "Het watershed algoritme is hieronder gemimplementeerd. Hiervoor moet de scikit package *skimage.morphology* geinstalleerd worden."
   ]
  },
  {
   "cell_type": "code",
   "execution_count": null,
   "metadata": {},
   "outputs": [],
   "source": [
    "from skimage.morphology import watershed\n",
    "\n",
    "# Watershed segmentation\n",
    "def createWatershedSegmentation(data):\n",
    "    # Format data for input as [X,Y,Z,DBZ]\n",
    "    inputData = data[:,[3,4,5,0]]\n",
    "\n",
    "    # Creating markers for dbz below 0 and higher then 7\n",
    "    markers = np.zeros(inputData.shape, dtype=np.uint)\n",
    "    markers[data[:,0] < 0] = 1\n",
    "    markers[data[:,0] > 7] = 2\n",
    "\n",
    "    # Generating cluster-labels with watershed segmentation\n",
    "    labels = np.array(watershed(inputData, markers))\n",
    "\n",
    "    # Appending labels to the input data resulting in [X,Y,Z,DBZ,Labels]\n",
    "    result = np.append(inputData, np.reshape(labels[:,0],(-1,1)),axis = 1)\n",
    "    \n",
    "    # Export results to output file\n",
    "    np.savetxt(\"output/watershedSegmentation.csv\",result, delimiter=',')\n",
    "\n",
    "    print \"Exporting results to: output/watershedSegmentation.csv\"\n",
    "\n",
    "    \n",
    "print \"****************Running watershed segmentation*****************\"\n",
    "createWatershedSegmentation(DATA)\n",
    "print \"****************Ending watershed segmentation*****************\""
   ]
  },
  {
   "cell_type": "markdown",
   "metadata": {},
   "source": [
    "# Pointcloud segmentation\n",
    "\n",
    "Deze pointcloud segmentation is een implementatie van de pointcloud library (http://docs.pointclouds.org/trunk/). Deze library bevat verschillende methodes om pointclouds te clusteren/segmenteren. Voor ons gebruik hadden we een python implementatie nodig van deze library (http://strawlab.github.io/python-pcl/). Echter, er is gebleken dat deze python wrapper nog niet alle functionaliteit bevat van de oorspronkelijke library. Deze is daardoor vrij gelimiteerd en heeft niet tot interessante clustering geleidt. Het grootste probleem is dat alleen x,y en z coordinaten kunnen worden meegegeven maar nog niet extra features zoals een dbz waarde. De code hieronder is gegeven om de poging te laten zien, en eventuele verdere implementatie mogelijk te maken. Er is een vrij simpel segmenteer algoritme geprobeerd en een cylinder model algoritme.\n",
    "\n",
    "---\n",
    "\n",
    "Hieronder wordt de python wrapper geimporteerd. Instructies hiervoor kunnen gevonden worden op https://github.com/strawlab/python-pcl. "
   ]
  },
  {
   "cell_type": "code",
   "execution_count": null,
   "metadata": {},
   "outputs": [],
   "source": [
    "import pcl"
   ]
  },
  {
   "cell_type": "markdown",
   "metadata": {},
   "source": [
    "## Standard segmentation algoritme"
   ]
  },
  {
   "cell_type": "code",
   "execution_count": null,
   "metadata": {},
   "outputs": [],
   "source": [
    "# Function to create a standard pointcloud segmentation\n",
    "def createPointcloudSegmentation(data):\n",
    "    # Format data for input as [X,Y,Z]\n",
    "    inputData = data[:,[3,4,5]]\n",
    "\n",
    "    # Create pointcloud with data imported as float32\n",
    "    pointCloud = pcl.PointCloud(inputData.astype('float32'))\n",
    "\n",
    "    # Create segmentation algorithm\n",
    "    segmenter = pointCloud.make_segmenter()\n",
    "    segmenter.set_model_type(pcl.SACMODEL_PLANE)\n",
    "    segmenter.set_method_type(pcl.SAC_RANSAC)\n",
    "    segmenter.set_distance_threshold(50)\n",
    "    \n",
    "    # Run segmentation algorithm\n",
    "    indices, model = segmenter.segment()\n",
    "    \n",
    "    if len(indices) is not 0:\n",
    "        # Get segmented regions from cloud, \"True\" being the first label and \"False\" the second\n",
    "        cloud_segmented_true = pointCloud.extract(indices, negative=True)\n",
    "        cloud_segmented_false = pointCloud.extract(indices, negative=False)\n",
    "\n",
    "        # Save pointclouds\n",
    "        pcl.save(cloud_segmented_true, 'output/standardPCLsegmentation-True.pcd')\n",
    "        pcl.save(cloud_segmented_false, 'output/standardPCLsegmentation-False.pcd')\n",
    "        \n",
    "        print \"Exporting results to: output/standardPCLsegmentation-True.pcd\"\n",
    "        print \"Exporting results to: output/standardPCLsegmentation-False.pcd\"\n",
    "    else:\n",
    "        print \"Indices are empty!\"\n",
    "    \n",
    "    \n",
    "print \"****************Starting standard pointcloud segmentation*****************\"\n",
    "createPointcloudSegmentation(DATA)\n",
    "print \"****************Ending standard pointcloud segmentation*****************\""
   ]
  },
  {
   "cell_type": "markdown",
   "metadata": {},
   "source": [
    "## Cylinder segmentation model"
   ]
  },
  {
   "cell_type": "code",
   "execution_count": null,
   "metadata": {},
   "outputs": [],
   "source": [
    "# Function to create a cylinder model pointcloud segmentation\n",
    "def createCylinderModelSegmentation(data):\n",
    "    # Format data for input as [X,Y,Z]\n",
    "    inputData = data[:,[3,4,5]]\n",
    "\n",
    "    # Create pointcloud with data imported as float32\n",
    "    pointCloud = pcl.PointCloud(inputData.astype('float32'))\n",
    "\n",
    "    # Create segmentation algorithm\n",
    "    segmenter = pointCloud.make_segmenter_normals(ksearch=50)\n",
    "    segmenter.set_optimize_coefficients(True)\n",
    "    segmenter.set_model_type(pcl.SACMODEL_NORMAL_PLANE)\n",
    "    segmenter.set_normal_distance_weight(0.1)\n",
    "    segmenter.set_method_type(pcl.SAC_RANSAC)\n",
    "    segmenter.set_max_iterations(500)\n",
    "    segmenter.set_distance_threshold(25)\n",
    "    indices, model = segmenter.segment()\n",
    "    \n",
    "    # Run segmentation algorithm\n",
    "    indices, model = segmenter.segment()\n",
    "\n",
    "    if len(indices) is not 0:\n",
    "        # Get segmented regions from cloud, \"True\" being the first label and \"False\" the second\n",
    "        cloud_segmented_true = pointCloud.extract(indices, negative=True)\n",
    "        cloud_segmented_false = pointCloud.extract(indices, negative=False)\n",
    "\n",
    "        # Save pointclouds\n",
    "        pcl.save(cloud_segmented_true, 'output/cylinderModelPCLsegmentation-True.pcd')\n",
    "        pcl.save(cloud_segmented_false, 'output/cylinderModelPCLsegmentation-False.pcd')\n",
    "        \n",
    "        print \"Exporting results to: output/cylinderModelPCLsegmentation-True.pcd\"\n",
    "        print \"Exporting results to: output/cylinderModelPCLsegmentation-False.pcd\"\n",
    "    else:\n",
    "        print \"Indices are empty!\"\n",
    "\n",
    "print \"****************Starting cylinder model pointcloud segmentation*****************\"\n",
    "createCylinderModelSegmentation(DATA)\n",
    "print \"****************ending cylinder model pointcloud segmentation*****************\""
   ]
  }
 ],
 "metadata": {
  "kernelspec": {
   "display_name": "Python 3",
   "language": "python",
   "name": "python3"
  },
  "language_info": {
   "codemirror_mode": {
    "name": "ipython",
    "version": 3
   },
   "file_extension": ".py",
   "mimetype": "text/x-python",
   "name": "python",
   "nbconvert_exporter": "python",
   "pygments_lexer": "ipython3",
   "version": "3.5.2"
  }
 },
 "nbformat": 4,
 "nbformat_minor": 2
}
