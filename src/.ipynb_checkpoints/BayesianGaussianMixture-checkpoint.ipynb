{
 "cells": [
  {
   "cell_type": "markdown",
   "metadata": {},
   "source": [
    "## BayesianGaussianMixture\n",
    "\n",
    "Bayesian Gaussian Mixture using the scikit-learn implementation.\n",
    "\n",
    "Arguments when called are the path to a CSV file and the ratio for dividing up the data into a test and train set."
   ]
  },
  {
   "cell_type": "code",
   "execution_count": 2,
   "metadata": {},
   "outputs": [
    {
     "name": "stdout",
     "output_type": "stream",
     "text": [
      "Trainingsset fitted\n",
      "Testset predicted\n"
     ]
    }
   ],
   "source": [
    "import numpy as np\n",
    "import csv\n",
    "from sklearn.mixture import BayesianGaussianMixture\n",
    "\n",
    "def bgm(path_and_name, ratio):\n",
    "    \n",
    "    # Turn csv into numpy array and remove the header with column names.\n",
    "    original = np.genfromtxt(path_and_name, delimiter=',')\n",
    "    headless = original[1:]\n",
    "\n",
    "    # Select on which features to cluster on:\n",
    "    # 0 = DBZH\n",
    "    # 1 = TH\n",
    "    # 2 = VRAD\n",
    "    # 3 = X coordinate\n",
    "    # 4 = Y coordinate\n",
    "    # 5 = Z coordinate\n",
    "    data = headless[:,(0,2,3,4,5)]\n",
    "\n",
    "    # Randomly shuffle the data and divide it up in a training and test set.\n",
    "    length = np.shape(data)[0]\n",
    "    div = int(length * ratio)\n",
    "    np.random.shuffle(data)\n",
    "\n",
    "    trainset = data[:div]\n",
    "    testset = data[div:]\n",
    "\n",
    "    # Specify mixture settings and fit on trainingset\n",
    "    # Algorithm works best on current data with either, more components and a lower prior or,\n",
    "    # less components and a higher prior.\n",
    "    # Least n_components needs to be 2.\n",
    "    mix = BayesianGaussianMixture(n_components=6,max_iter=10000,weight_concentration_prior_type='dirichlet_distribution', weight_concentration_prior=0.00001).fit(trainset)\n",
    "    print(\"Trainingsset fitted\")\n",
    "\n",
    "    # Predict testset\n",
    "    labels = mix.predict(testset)\n",
    "    print(\"Testset predicted\")\n",
    "\n",
    "    # Append labels to data and write to file.\n",
    "    labeledData = np.append(testset, np.reshape(labels, (-1,1)), axis = 1)\n",
    "    \n",
    "    name = path_and_name.split(\"/\")\n",
    "    name = name[len(name)-1]\n",
    "    name = \"BGM_\" + name\n",
    "    np.savetxt(\"output/\"+name, labeledData, delimiter=',')\n",
    "\n",
    "bgm('csvdata/160930/160930-23-00.csv', 0.4)"
   ]
  },
  {
   "cell_type": "code",
   "execution_count": null,
   "metadata": {
    "collapsed": true
   },
   "outputs": [],
   "source": []
  }
 ],
 "metadata": {
  "kernelspec": {
   "display_name": "Python 2",
   "language": "python",
   "name": "python2"
  },
  "language_info": {
   "codemirror_mode": {
    "name": "ipython",
    "version": 2
   },
   "file_extension": ".py",
   "mimetype": "text/x-python",
   "name": "python",
   "nbconvert_exporter": "python",
   "pygments_lexer": "ipython2",
   "version": "2.7.14"
  }
 },
 "nbformat": 4,
 "nbformat_minor": 2
}
