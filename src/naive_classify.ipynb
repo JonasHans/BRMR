{
 "cells": [
  {
   "cell_type": "markdown",
   "metadata": {},
   "source": [
    "## Naive classify\n",
    "\n",
    "The KNMI uses a threshhold of a 7.0 DBZH value for rain. This tries to classify the datapoints on just the DBZH value. This does not result in something usuable as clouds don't have a uniform DBZH of higher than 7.0. The edges are lower which causes there to be too much rain left. It also completely deletes any grey areas (rain and birds at the same time) which is exactly what we don't want."
   ]
  },
  {
   "cell_type": "code",
   "execution_count": 2,
   "metadata": {},
   "outputs": [],
   "source": [
    "import numpy as np\n",
    "\n",
    "def classify_rain(path_and_name):\n",
    "    # Generate array from csv and extract DBZH vector.\n",
    "    original = np.genfromtxt(path_and_name, delimiter=',')\n",
    "    data = original[1:]\n",
    "    \n",
    "    # Initiate list to keep track of classes\n",
    "    classification = np.array([])\n",
    "\n",
    "    # Loop over DBZH value, add a 0 to the list if it is rain (DBZH > 7.0),\n",
    "    # else add a 1.\n",
    "    for i in data[:,0]:\n",
    "        if(i > 7.0):\n",
    "            classification = np.append(classification, 0)\n",
    "        else:\n",
    "            classification = np.append(classification, 1)\n",
    "\n",
    "    # Reshape into an appendable column\n",
    "    classification = np.reshape(classification, (-1,1))\n",
    "\n",
    "\n",
    "    # Add labels to data, output format: DBZH, X, Y, Z, labels\n",
    "    output = np.append(data[:,(0,2,3,4,5)], classification, axis=1)\n",
    "\n",
    "    # Write to CSV\n",
    "    name = path_and_name.split(\"/\")\n",
    "    name = name[len(name)-1]\n",
    "    name = \"Naive_\" + name\n",
    "    np.savetxt(\"output/\"+name, output, delimiter=',')\n",
    "\n",
    "classify_rain(\"csvdata/161007/161007-20-30.csv\")"
   ]
  },
  {
   "cell_type": "code",
   "execution_count": null,
   "metadata": {
    "collapsed": true
   },
   "outputs": [],
   "source": []
  }
 ],
 "metadata": {
  "kernelspec": {
   "display_name": "Python 2",
   "language": "python",
   "name": "python2"
  },
  "language_info": {
   "codemirror_mode": {
    "name": "ipython",
    "version": 2
   },
   "file_extension": ".py",
   "mimetype": "text/x-python",
   "name": "python",
   "nbconvert_exporter": "python",
   "pygments_lexer": "ipython2",
   "version": "2.7.14"
  }
 },
 "nbformat": 4,
 "nbformat_minor": 2
}
