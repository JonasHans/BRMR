{
 "cells": [
  {
   "cell_type": "markdown",
   "metadata": {},
   "source": [
    "   # KNN met handmatige labeling"
   ]
  },
  {
   "cell_type": "markdown",
   "metadata": {},
   "source": [
    "voor dit algoritme zijn in enkele pointclouds de vogels handmatig gescheiden van de regen. Deze data is gebruikt als labeling voor het k nearest neighbors algoritme.\n",
    "\n",
    "Ten eerste zijn van elk punt de 50 dichtsbijzijnde punten bepaald en de variantie in DBZH en het gemiddelde van de DBZH bepaald. Deze stap neemt veel tijd in beslag, maar zorgt voor minder ruis in het eindresultaat. Je zou dit ook kunnen laten voor snellere maar minder precieze resultaten. \n",
    "\n",
    "Er wordt vervolgens een array gemaakt met van elk punt zijn DBZH waarde, zijn Z waarde, zijn variantie in DBZH tussen de nabije punten, en het gemiddelde van DBZH in deze punten. Er is geprobeerd om ook de variantie op de VRAD mee te nemen in de resultaten, maar dit leverde geen betere resultaten op. Hier wordt het kNN algoritme op toegepast.\n",
    "\n",
    "resultaten:\n",
    "- vrij goed\n",
    "- soms wordt aan de randjes van wolken nog wat als vogels geclassificeerd\n",
    "- soms bij overlap worden vogels als wolk geclassificeerd"
   ]
  },
  {
   "cell_type": "code",
   "execution_count": 60,
   "metadata": {},
   "outputs": [],
   "source": [
    "from sklearn.neighbors import NearestNeighbors\n",
    "from sklearn.neighbors import KNeighborsClassifier\n",
    "import numpy as np\n",
    "\n",
    "\"\"\" load file maakt van een door cloudcompare geoutputte text file twee np arrays\n",
    "    De eerste met de xyz waarden van een punt, de tweede met de dbzh waarde \"\"\"\n",
    "def load_file(filename):\n",
    "    originali = np.genfromtxt(filename, delimiter=' ')\n",
    "    original = originali[1:]\n",
    "    xyz = original[:, [0, 1, 2]]\n",
    "    DBZH = original[:, 3]\n",
    "    return [xyz, DBZH]\n",
    "\n",
    "\"\"\" get_nearest_neigbours vindt voor elk punt in een array de n_neighbours dichtst bijzijnde punten\n",
    "    De default waarde staat op 100 neighbors \"\"\"\n",
    "def get_nearest_neighbours(array, n_neighbors=100):\n",
    "    nbrs = NearestNeighbors(n_neighbors, algorithm='ball_tree').fit(array)\n",
    "    distances, indices = nbrs.kneighbors(array)\n",
    "    return indices\n",
    "\n",
    "\"\"\" get_variances vindt de variantie in locatie en intensiteit binnen een punt en zijn buren.\n",
    "    er wordt een array gereturned met de DBZH waarden en varianties voor elk punt \"\"\"\n",
    "def get_variances(nearest_indices, xyz, DBZH, classification = None):\n",
    "    if classification:\n",
    "        columns = 5\n",
    "    else:\n",
    "        columns = 4\n",
    "    db_means = []\n",
    "    db_vars = []\n",
    "    for points in nearest_indices:\n",
    "        db = []\n",
    "        v = []\n",
    "        for i in points:\n",
    "            db.append(DBZH[i])\n",
    "        db_means.append(np.mean(db))\n",
    "        db_vars.append(np.var(db))\n",
    "    zeros = np.zeros((len(DBZH), columns))\n",
    "    zeros[:, 0] = DBZH\n",
    "    zeros[:, 1] = xyz[:, 2]\n",
    "    zeros[:, 2] = db_vars \n",
    "    zeros[:, 3] = db_means\n",
    "    if classification:\n",
    "        zeros[:, 4] = classification\n",
    "    return zeros\n",
    "\n",
    "\"\"\" make data neemt een door cloudcompare gemaakte textfile en maakt hier een geschikte numpy\n",
    "    array van die als training of test data kan worden gebruikt.\"\"\"\n",
    "def make_data(filename, class_number):\n",
    "    file = load_file(filename)\n",
    "    xyz = file[0]\n",
    "    DBZH = file[1]\n",
    "    knn = get_nearest_neighbours(xyz)\n",
    "    return get_variances(knn, xyz, DBZH, class_number)\n",
    "\n",
    "\"\"\" returned een array met de xyz waarden van een door numpy gegenereerde textfile \"\"\"\n",
    "def get_xyz(filename):\n",
    "    file = load_file(filename)\n",
    "    return file[0]\n"
   ]
  },
  {
   "cell_type": "code",
   "execution_count": 72,
   "metadata": {},
   "outputs": [],
   "source": [
    "birds1 = make_data('labeled/birds/birds1.txt', 1)\n",
    "birds2 = make_data('labeled/birds/birds2.txt', 1)\n",
    "birds3 = make_data('labeled/birds/birds3.txt', 1)\n",
    "birds5 = make_data('labeled/birds/birds5.txt', 1)\n",
    "birds4 = make_data('labeled/birds/birds4.txt', 1)\n",
    "\n",
    "clouds1 = make_data('labeled/clouds/clouds1.txt', 2)\n",
    "clouds2 = make_data('labeled/clouds/clouds2.txt', 2)\n",
    "clouds3 = make_data('labeled/clouds/clouds3.txt', 2)\n",
    "clouds4 = make_data('labeled/clouds/clouds4.txt', 2)\n",
    "clouds5 = make_data('labeled/clouds/clouds5.txt', 2)\n",
    "clouds6 = make_data('labeled/clouds/clouds6.txt', 2)\n",
    "clouds7 = make_data('labeled/clouds/clouds7.txt', 2)\n",
    "clouds8 = make_data('labeled/clouds/clouds8.txt', 2)\n",
    "\n",
    "total = np.concatenate((birds1, birds2, birds3, birds5, birds4, clouds1, clouds2, clouds3, clouds4, clouds5, clouds6, clouds7, clouds8), axis = 0)"
   ]
  },
  {
   "cell_type": "code",
   "execution_count": 74,
   "metadata": {},
   "outputs": [],
   "source": [
    "def classify_knn(test_file, training_array, output_file_name, N):\n",
    "    test_array = make_data(test_file, None)\n",
    "    neigh = KNeighborsClassifier(n_neighbors=N)\n",
    "    neigh.fit(training_array[:,[0, 1, 2, 3]], training_array[:, 4]) \n",
    "    output_labels = neigh.predict(test_array[:,[0, 1, 2, 3]])\n",
    "    output = np.append(get_xyz(test_file), np.reshape(output_labels,(-1,1)), axis=1)\n",
    "    np.savetxt(output_file_name, output, delimiter=',')\n",
    "\n",
    "classify_knn('labeled/test/test2.txt', total, 'output_csv/knn26.csv', 100)"
   ]
  },
  {
   "cell_type": "code",
   "execution_count": 71,
   "metadata": {},
   "outputs": [],
   "source": [
    "def remove_vrad(filename, output_name):\n",
    "    originali = np.genfromtxt(filename, delimiter=' ')\n",
    "    original = originali[1:]\n",
    "    np.savetxt(output_name, original[:, [0,1,2,3]], delimiter=' ')\n",
    "    \n",
    "remove_vrad('labeled/birds/birdsV2.txt', 'labeled/birds/birds5.txt')\n",
    "remove_vrad('labeled/birds/birdsV1.txt', 'labeled/birds/birds4.txt')\n",
    "remove_vrad('labeled/clouds/cloudsV1.txt', 'labeled/clouds/clouds4.txt')\n",
    "remove_vrad('labeled/clouds/cloudsV2.txt', 'labeled/clouds/clouds5.txt')\n",
    "remove_vrad('labeled/clouds/cloudsV3.txt', 'labeled/clouds/clouds6.txt')\n",
    "remove_vrad('labeled/clouds/cloudsV4.txt', 'labeled/clouds/clouds7.txt')\n",
    "remove_vrad('labeled/clouds/cloudsV5.txt', 'labeled/clouds/clouds8.txt')"
   ]
  },
  {
   "cell_type": "code",
   "execution_count": null,
   "metadata": {
    "collapsed": true
   },
   "outputs": [],
   "source": []
  }
 ],
 "metadata": {
  "kernelspec": {
   "display_name": "Python 3",
   "language": "python",
   "name": "python3"
  },
  "language_info": {
   "codemirror_mode": {
    "name": "ipython",
    "version": 3
   },
   "file_extension": ".py",
   "mimetype": "text/x-python",
   "name": "python",
   "nbconvert_exporter": "python",
   "pygments_lexer": "ipython3",
   "version": "3.6.3"
  }
 },
 "nbformat": 4,
 "nbformat_minor": 2
}
