{
 "cells": [
  {
   "cell_type": "markdown",
   "metadata": {},
   "source": [
    "## Cluster reduction\n",
    "\n",
    "Reduction reduces the amount of clusters to 2 from any given number of clusters. It uses the average of the DBZH value of a cluster to decide if a cluster is made up of rain or birds."
   ]
  },
  {
   "cell_type": "code",
   "execution_count": 4,
   "metadata": {},
   "outputs": [
    {
     "name": "stdout",
     "output_type": "stream",
     "text": [
      "Average DBZH: -10.8952177216\n",
      "Average DBZH: 1.40473033761\n",
      "Average DBZH: 6.22324914349\n",
      "Average DBZH: -1.96981853629\n",
      "Average DBZH: 11.9228416336\n",
      "Average DBZH: 14.3473159078\n"
     ]
    }
   ],
   "source": [
    "import numpy as np\n",
    "\n",
    "def reduction(path_and_name):\n",
    "    # Generate numpy array from csv and get the last column (the labels)\n",
    "    data = np.genfromtxt(path_and_name, delimiter = ',')\n",
    "    lastColumn = np.shape(data)[1]-1\n",
    "\n",
    "    # Define dictionaries\n",
    "    labelDict = {}\n",
    "    classDict = {}\n",
    "\n",
    "    # Compute how many clusters there are\n",
    "    clusters = np.unique(data[:,lastColumn])\n",
    "\n",
    "    # Make a list per cluster with the DBZ values\n",
    "    for i, j in zip(data[:,0],data[:,lastColumn]):\n",
    "        if(str(j) in labelDict):\n",
    "            labelDict[str(j)] = np.append(labelDict[str(j)], i)\n",
    "        else:\n",
    "            labelDict[str(j)] = np.array([i])\n",
    "\n",
    "    # For each of the lists in labelDict, compute the average. If that average\n",
    "    # is higher than 0 we classify the cluster as rain(1), else as bird(0)\n",
    "    for i in labelDict:\n",
    "        classDict[str(i)] = np.average(labelDict[str(i)])\n",
    "        print(\"Average DBZH: \" + str(classDict[str(i)]))\n",
    "        if(classDict[str(i)] > 0):\n",
    "            classDict[str(i)] = 1.0\n",
    "        else:\n",
    "            classDict[str(i)] = 0.0\n",
    "\n",
    "    # Define array of the right shape, using np.empty for efficiency.\n",
    "    classes = np.empty([np.shape(data)[0],1], float)\n",
    "    \n",
    "    # \n",
    "    for i, j in zip(data[:,lastColumn], range(len(classes))):\n",
    "        classes[j] = classDict[str(i)]\n",
    "\n",
    "    classifiedData = np.append(data, classes, axis = 1)\n",
    "\n",
    "    name = path_and_name.split(\"/\")\n",
    "    name = name[len(name)-1]\n",
    "    name = \"class_\" + name\n",
    "    np.savetxt(\"output/\"+name, classifiedData, delimiter=',')\n",
    "\n",
    "reduction(\"output/BGM_160930-23-00.csv\")"
   ]
  }
 ],
 "metadata": {
  "kernelspec": {
   "display_name": "Python 2",
   "language": "python",
   "name": "python2"
  },
  "language_info": {
   "codemirror_mode": {
    "name": "ipython",
    "version": 2
   },
   "file_extension": ".py",
   "mimetype": "text/x-python",
   "name": "python",
   "nbconvert_exporter": "python",
   "pygments_lexer": "ipython2",
   "version": "2.7.14"
  }
 },
 "nbformat": 4,
 "nbformat_minor": 2
}
