{
 "cells": [
  {
   "cell_type": "markdown",
   "metadata": {},
   "source": [
    "## Read file"
   ]
  },
  {
   "cell_type": "code",
   "execution_count": 49,
   "metadata": {
    "scrolled": true
   },
   "outputs": [
    {
     "name": "stdout",
     "output_type": "stream",
     "text": [
      "[u'CLASS', u'IMAGE_VERSION']\n"
     ]
    }
   ],
   "source": [
    "import h5py\n",
    "import numpy as np\n",
    "import matplotlib.pyplot as plt\n",
    "import re\n",
    "import os\n",
    "\n",
    "def get_dict_from_file(filename):\n",
    "    hdf5_file_name = filename\n",
    "    hdf5_file   = h5py.File(hdf5_file_name, 'r')\n",
    "    datasetNames = [n for n in hdf5_file.keys()]\n",
    "    datasets = []\n",
    "    for i in datasetNames:\n",
    "        description = re.search('dataset.',i)\n",
    "        if description != None:\n",
    "            datasets.append(i)\n",
    "    data = {}\n",
    "    for dataset in datasets:\n",
    "        data_for = hdf5_file[dataset]\n",
    "        datarow = []\n",
    "        for j in data_for:\n",
    "            if j == 'where':\n",
    "                datarow.append((data_for['where'].attrs.values()))\n",
    "            new_data = data_for[j]\n",
    "            for k in new_data:\n",
    "                if k == 'data':\n",
    "                    datarow.append(new_data[k][()])\n",
    "                else:\n",
    "                    datarow.append(new_data[k].attrs.values())\n",
    "        data[dataset] = datarow\n",
    "    #print(data)\n",
    "    print(hdf5_file['dataset1']['data3']['data'].attrs.keys())\n",
    "    hdf5_file.close()\n",
    "    \n",
    "get_dict_from_file('RadarData/160930/00/00/merged/nldbl_pvol_20160930T0000Z.h5')"
   ]
  },
  {
   "cell_type": "markdown",
   "metadata": {},
   "source": [
    "## Get files from directory"
   ]
  },
  {
   "cell_type": "code",
   "execution_count": 8,
   "metadata": {},
   "outputs": [
    {
     "name": "stdout",
     "output_type": "stream",
     "text": [
      "[]\n",
      "[]\n"
     ]
    }
   ],
   "source": [
    "import fnmatch\n",
    "import os\n",
    "\n",
    "matches = []\n",
    "for root, dirnames, filenames in os.walk('Bsc-project_radar'):\n",
    "    for filename in fnmatch.filter(filenames, '*.h5'):\n",
    "        matches.append(os.path.join(root, filename))\n",
    "print(matches)\n",
    "paths = []\n",
    "for items in matches:\n",
    "    paths.append(re.findall('data/(.*)', items))\n",
    "print(paths)"
   ]
  },
  {
   "cell_type": "code",
   "execution_count": null,
   "metadata": {
    "collapsed": true
   },
   "outputs": [],
   "source": []
  }
 ],
 "metadata": {
  "kernelspec": {
   "display_name": "Python 2",
   "language": "python",
   "name": "python2"
  },
  "language_info": {
   "codemirror_mode": {
    "name": "ipython",
    "version": 2
   },
   "file_extension": ".py",
   "mimetype": "text/x-python",
   "name": "python",
   "nbconvert_exporter": "python",
   "pygments_lexer": "ipython2",
   "version": "2.7.14"
  }
 },
 "nbformat": 4,
 "nbformat_minor": 2
}
